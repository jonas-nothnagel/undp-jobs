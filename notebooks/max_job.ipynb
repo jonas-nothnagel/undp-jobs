{
 "cells": [
  {
   "cell_type": "code",
   "execution_count": 2,
   "metadata": {},
   "outputs": [],
   "source": [
    "import requests\n",
    "from bs4 import BeautifulSoup\n",
    "import csv\n",
    "import logging\n",
    "from tqdm import tqdm\n",
    "import time\n",
    "import os\n",
    "import sys"
   ]
  },
  {
   "cell_type": "code",
   "execution_count": 5,
   "metadata": {},
   "outputs": [],
   "source": [
    "# Constants\n",
    "BASE_URL = 'https://jobs.undp.org/cj_view_job.cfm?cur_job_id='\n",
    "CHECKPOINT_FILE = 'checkpoint.txt'\n",
    "OUTPUT_FILE = 'undp_jobs.csv'\n",
    "MIN_JOB_ID = 1150\n",
    "MAX_RETRIES = 3\n",
    "RETRY_DELAY = 5"
   ]
  },
  {
   "cell_type": "code",
   "execution_count": 8,
   "metadata": {},
   "outputs": [],
   "source": [
    "def get_soup(url, retries=MAX_RETRIES):\n",
    "    for _ in range(retries):\n",
    "        try:\n",
    "            response = requests.get(url, timeout=10)\n",
    "            return BeautifulSoup(response.content, \"html.parser\")\n",
    "        except requests.RequestException as e:\n",
    "            logging.warning(f\"Error fetching {url}: {e}. Retrying...\")\n",
    "            time.sleep(RETRY_DELAY)\n",
    "    logging.error(f\"Failed to fetch {url} after {MAX_RETRIES} retries\")\n",
    "    return None"
   ]
  },
  {
   "cell_type": "code",
   "execution_count": 12,
   "metadata": {},
   "outputs": [],
   "source": [
    "def is_valid_job_posting(url):\n",
    "    soup = get_soup(url)\n",
    "    if not soup:\n",
    "        return False\n",
    "    # Check if the page contains typical job posting content\n",
    "    return \"cj_view_job.cfm\" in url"
   ]
  },
  {
   "cell_type": "code",
   "execution_count": 17,
   "metadata": {},
   "outputs": [],
   "source": [
    "def find_max_job_id(start_id):\n",
    "    current_id = start_id\n",
    "    while True:\n",
    "        url = f\"{BASE_URL}{current_id + 1}\"\n",
    "        if is_valid_job_posting(url):\n",
    "            current_id += 1\n",
    "            logging.debug(f\"Valid job posting found at ID {current_id}\")\n",
    "            print(current_id)\n",
    "        else:\n",
    "            logging.info(f\"Max job ID found: {current_id}\")\n",
    "            break\n",
    "    return current_id"
   ]
  },
  {
   "cell_type": "code",
   "execution_count": 15,
   "metadata": {},
   "outputs": [
    {
     "data": {
      "text/plain": [
       "1155"
      ]
     },
     "execution_count": 15,
     "metadata": {},
     "output_type": "execute_result"
    }
   ],
   "source": [
    "max_id"
   ]
  },
  {
   "cell_type": "code",
   "execution_count": null,
   "metadata": {},
   "outputs": [],
   "source": []
  }
 ],
 "metadata": {
  "kernelspec": {
   "display_name": "undp-jobs",
   "language": "python",
   "name": "python3"
  },
  "language_info": {
   "codemirror_mode": {
    "name": "ipython",
    "version": 3
   },
   "file_extension": ".py",
   "mimetype": "text/x-python",
   "name": "python",
   "nbconvert_exporter": "python",
   "pygments_lexer": "ipython3",
   "version": "3.10.13"
  }
 },
 "nbformat": 4,
 "nbformat_minor": 2
}
