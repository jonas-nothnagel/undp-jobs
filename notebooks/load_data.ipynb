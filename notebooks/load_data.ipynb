{
 "cells": [
  {
   "cell_type": "code",
   "execution_count": 9,
   "id": "064a7647",
   "metadata": {},
   "outputs": [],
   "source": [
    "from datasets import load_dataset"
   ]
  },
  {
   "cell_type": "code",
   "execution_count": null,
   "id": "22918354",
   "metadata": {},
   "outputs": [],
   "source": [
    "dataset = load_dataset(\"jonas/undp_jobs_raw\")"
   ]
  },
  {
   "cell_type": "code",
   "execution_count": 7,
   "id": "87677843",
   "metadata": {},
   "outputs": [],
   "source": [
    "import re"
   ]
  },
  {
   "cell_type": "code",
   "execution_count": 8,
   "id": "5c7030fc",
   "metadata": {},
   "outputs": [],
   "source": [
    "mails = \"Dreessen, Anne <Anne.Dreessen@bmz.bund.de>; Klotz, Johannes <Johannes.Klotz@bmz.bund.de>; Turre, Joachim <Joachim.Turre@bmz.bund.de>; Steinacher, Laura <Laura.Steinacher@BMZ.Bund.de>; Pohl, Thomas <Thomas.Pohl@BMZ.Bund.de>; Braunsteffer, Jonas <Jonas.Braunsteffer@BMZ.Bund.de>; Dockhorn, Kai (GIZ) <kai.dockhorn@giz.de>; Gödicke, Konstantin <Konstantin.Goedicke@bmz.bund.de>; Gründahl, Henning <Henning.Gruendahl@bmz.bund.de>; Völker, Wolfgang [Externen] <Extern.Voelker@bmz.bund.de>; Vinzent, Dominique Jerome <Dominique-Jerome.Vinzent@bmz.bund.de>; Krüger, Stephan <stephan.krueger@bmz.bund.de>; Plate, Dr. Henning <Henning.Plate@bmz.bund.de>; Knoke, Sebastian <Sebastian.Knoke@bmz.bund.de>; Selwig, Lars <Lars.Selwig@bmz.bund.de>; Stechow, Christoph <Christoph.Stechow@bmz.bund.de>; Neutze, Florian <Florian.Neutze@bmz.bund.de>; Becker, Lars <Lars.Becker@bmz.bund.de>; Hofmann, Martin (GIZ) <martin.hofmann@giz.de>; Roskin, Maksim (GIZ) <maksim.roskin@giz.de>; Domnick, Benjamin <Benjamin.Domnick@bmz.bund.de>; Peters, Philipp (GIZ) <philipp.peters@giz.de>; Lellmann, Malte (GIZ) <malte.lellmann@giz.de>; Kömm, Michael <Michael.Koemm@bmz.bund.de>; timskroblien <timskroblien@posteo.de>; Philippe, Miriam <Miriam.Philippe@bmz.bund.de>; Horf, Andrea <Andrea.Horf@BMZ.Bund.de>; Bergmann, Simon (GIZ) <simon.bergmann@giz.de>; Fremery, Vincent (GIZ) <vincent.fremery@giz.de>; Schneider, Thomas <Thomas.Schneider@bmz.bund.de>; Harder, Benjamin <Benjamin.Harder@bmz.bund.de>; henning.plate <henning.plate@gmail.com>; Darouiche, Ramzi (GIZ) <ramzi.darouiche@giz.de>; Pfefferle, Tim (GIZ) <tim.pfefferle@giz.de>; Köse, Orhan <Orhan.Koese@bmz.bund.de>; Tozman, Markus <Markus.Tozman@bmz.bund.de>; Garaycochea, Paul <Paul.Garaycochea@bmz.bund.de>; Reitenbach, Alexander <Alexander.Reitenbach@bmz.bund.de>; Wilde, Sebastian <Sebastian.Wilde@bmz.bund.de>; Russo, David <David.Russo@BMZ.Bund.de>; bdunnzlaff <bdunnzlaff@web.de>; Wagner, Anja <Anja.Wagner@bmz.bund.de>; Kretschmer, Michael <Michael.Kretschmer@bmz.bund.de>; Dirksen, Jan <jan.dirksen@bmz.bund.de>; Gerding, Liam (GIZ) <liam.gerding@giz.de>; Andreas.Richier <Andreas.Richier@joblinge.de>; Reif, Falko <Falko.Reif@bmz.bund.de>; Pletziger, Andreas <Andreas.Pletziger@bmz.bund.de>; Bernauer, Lars <Lars.Bernauer@bmz.bund.de>; Groscurth, Lennart (GIZ) <lennart.groscurth@giz.de>; Funck, Lennart (GIZ) <lennart.funck@giz.de>; Meyer, Philipp <Philipp.Meyer@bmz.bund.de>; Bleckmann, Jonas (GIZ) <jonas.bleckmann@giz.de>; Belschner, Philipp <Philipp.Belschner@BMZ.Bund.de>; Schultze-Moderow, Maxim (GIZ) <maxim.schultze-moderow@giz.de>; levent.toprak <levent.toprak@giz.de>; Kühnau, Dan <Dan.Kuehnau@bmz.bund.de>; Nothnagel, Jonas (GIZ) <jonas.nothnagel@giz.de>; Leisterer, Maximilian (GIZ) <maximilian.leisterer@giz.de>; Neutze, Florian <Florian.Neutze@bmz.bund.de>; Bartscht, Torge (GIZ) <torge.bartscht@giz.de>; Vinzent, Dominique Jerome <Dominique-Jerome.Vinzent@bmz.bund.de>; 'Posteo' <timskroblien@posteo.de>; 'Dominique Vinzent' <dominique.vinzent@web.de>; Rohe, Rebecca (GIZ) <rebecca.rohe@giz.de>; 'Junge, Paul' <paul.junge@tu-berlin.de>; 'Mario Ferrufino' <m.ferrufino@zeppelin-university.net>; Worack, Stephan <Stephan.Worack@BMZ.Bund.de>; Gramse, Jonas (GIZ) <jonas.gramse@giz.de>; Kauert, Ole (GIZ) <ole.kauert@giz.de>; Friedrichs, Nils <Nils.Friedrichs@BMZ.Bund.de>; 'Schmidt, Jan Henrik GIZ' <jan.schmidt@giz.de>\""
   ]
  },
  {
   "cell_type": "code",
   "execution_count": 9,
   "id": "45a49d06",
   "metadata": {},
   "outputs": [],
   "source": [
    "newstring = mails.replace(r\"<\", '').replace(r\">\", '')\n",
    "match = re.findall(r'[\\w.+-]+@[\\w-]+\\.[\\w.-]+', newstring)"
   ]
  },
  {
   "cell_type": "code",
   "execution_count": 13,
   "id": "de4d34b8",
   "metadata": {},
   "outputs": [],
   "source": [
    "giz = \"@giz\"\n",
    "bmz = \"@bmz\""
   ]
  },
  {
   "cell_type": "code",
   "execution_count": 14,
   "id": "84b817c4",
   "metadata": {},
   "outputs": [],
   "source": [
    "giz_players = []\n",
    "bmz_players = []\n",
    "for m in match:\n",
    "    if giz in m:\n",
    "        giz_players.append(m)\n",
    "    if bmz in m:\n",
    "        bmz_players.append(m)"
   ]
  },
  {
   "cell_type": "code",
   "execution_count": 19,
   "id": "ac5f7823",
   "metadata": {},
   "outputs": [
    {
     "data": {
      "text/plain": [
       "['kai.dockhorn@giz.de',\n",
       " 'martin.hofmann@giz.de',\n",
       " 'maksim.roskin@giz.de',\n",
       " 'philipp.peters@giz.de',\n",
       " 'malte.lellmann@giz.de',\n",
       " 'simon.bergmann@giz.de',\n",
       " 'vincent.fremery@giz.de',\n",
       " 'ramzi.darouiche@giz.de',\n",
       " 'tim.pfefferle@giz.de',\n",
       " 'liam.gerding@giz.de',\n",
       " 'lennart.groscurth@giz.de',\n",
       " 'lennart.funck@giz.de',\n",
       " 'jonas.bleckmann@giz.de',\n",
       " 'maxim.schultze-moderow@giz.de',\n",
       " 'levent.toprak@giz.de',\n",
       " 'jonas.nothnagel@giz.de',\n",
       " 'maximilian.leisterer@giz.de',\n",
       " 'torge.bartscht@giz.de',\n",
       " 'rebecca.rohe@giz.de',\n",
       " 'jonas.gramse@giz.de',\n",
       " 'ole.kauert@giz.de',\n",
       " 'jan.schmidt@giz.de']"
      ]
     },
     "execution_count": 19,
     "metadata": {},
     "output_type": "execute_result"
    }
   ],
   "source": [
    "giz_players"
   ]
  },
  {
   "cell_type": "code",
   "execution_count": null,
   "id": "53d150b9",
   "metadata": {},
   "outputs": [],
   "source": []
  }
 ],
 "metadata": {
  "kernelspec": {
   "display_name": "Python 3 (ipykernel)",
   "language": "python",
   "name": "python3"
  },
  "language_info": {
   "codemirror_mode": {
    "name": "ipython",
    "version": 3
   },
   "file_extension": ".py",
   "mimetype": "text/x-python",
   "name": "python",
   "nbconvert_exporter": "python",
   "pygments_lexer": "ipython3",
   "version": "3.9.7"
  }
 },
 "nbformat": 4,
 "nbformat_minor": 5
}
