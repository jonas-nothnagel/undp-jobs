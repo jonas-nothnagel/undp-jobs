{
 "cells": [
  {
   "cell_type": "code",
   "execution_count": 1,
   "metadata": {},
   "outputs": [
    {
     "name": "stdout",
     "output_type": "stream",
     "text": [
      "INFO: Pandarallel will run on 11 workers.\n",
      "INFO: Pandarallel will use standard multiprocessing data transfer (pipe) to transfer data between the main process and workers.\n"
     ]
    }
   ],
   "source": [
    "import glob, os, sys; sys.path.append('../src')\n",
    "from datetime import datetime\n",
    "\n",
    "from langdetect import detect\n",
    "from tabulate import tabulate \n",
    "# data wrangling\n",
    "import numpy as np\n",
    "import pandas as pd\n",
    "import re\n",
    "import ast\n",
    "import itertools\n",
    "import wordninja\n",
    "from dateutil import parser\n",
    "import wordninja\n",
    "import string\n",
    "import matplotlib.pyplot as plt\n",
    "\n",
    "from tqdm.auto import tqdm\n",
    "tqdm.pandas()\n",
    "\n",
    "'''import helper functions'''\n",
    "import clean as clean\n",
    "import extract_attributes as ex\n",
    "\n",
    "'''multiprocessing'''\n",
    "from pandarallel import pandarallel\n",
    "pandarallel.initialize(progress_bar=True)"
   ]
  },
  {
   "cell_type": "code",
   "execution_count": 2,
   "metadata": {},
   "outputs": [
    {
     "name": "stdout",
     "output_type": "stream",
     "text": [
      "length of raw dataset: 98894\n"
     ]
    }
   ],
   "source": [
    "# let's load the data\n",
    "df = pd.read_csv(\"../data/undp_jobs.csv\") \n",
    "original_size = df.shape[0]\n",
    "\n",
    "print(\"length of raw dataset:\", original_size)"
   ]
  },
  {
   "cell_type": "markdown",
   "metadata": {},
   "source": [
    "Here we only want to understand the structure of the job postings and figure out how to - cleanly - extract the fields properly. It seems that all of the posting use the same java structure on the website"
   ]
  },
  {
   "cell_type": "code",
   "execution_count": 3,
   "metadata": {},
   "outputs": [],
   "source": [
    "df['cleaned_content'] = df['content'].apply(clean.basic)"
   ]
  },
  {
   "cell_type": "code",
   "execution_count": 4,
   "metadata": {},
   "outputs": [],
   "source": [
    "# Binary column whether or not a posting follows the structure (background, competencies, sills and experiences, ...)\n",
    "template_structure = ['background',\n",
    "                      'duties and responsibilities',\n",
    "                      'competencies',\n",
    "                      'required skills and experience']\n",
    "for section in template_structure:\n",
    "    df['has_' + section.replace(' ','_')] = df['cleaned_content'].apply(lambda l: ex.has_attribute(l, section))"
   ]
  },
  {
   "cell_type": "code",
   "execution_count": 5,
   "metadata": {},
   "outputs": [],
   "source": [
    "df_no = df[(df['has_background']==0)|\\\n",
    "           (df['has_duties_and_responsibilities']==0)|\\\n",
    "           (df['has_competencies']==0)|\\\n",
    "           (df['has_required_skills_and_experience']==0)]['job_id']"
   ]
  },
  {
   "cell_type": "code",
   "execution_count": 6,
   "metadata": {},
   "outputs": [
    {
     "name": "stdout",
     "output_type": "stream",
     "text": [
      "Rows following job posting template structure:  92051\n",
      "Number of projects that are not following the structure and are thus dropped: 6843\n"
     ]
    }
   ],
   "source": [
    "# Remove job postings not following the given structure and corresponding binary columns\n",
    "df = df[(df['has_background']!=0)&\\\n",
    "           (df['has_duties_and_responsibilities']!=0)&\\\n",
    "           (df['has_competencies']!=0)&\\\n",
    "           (df['has_required_skills_and_experience']!=0)]\n",
    "\n",
    "df.drop(['has_background',\\\n",
    "                  'has_duties_and_responsibilities',\\\n",
    "                  'has_competencies',\\\n",
    "                  'has_required_skills_and_experience'], axis=1, inplace=True)\n",
    "\n",
    "print('Rows following job posting template structure: ', df.shape[0])\n",
    "print('Number of projects that are not following the structure and are thus dropped:', original_size- df.shape[0])"
   ]
  },
  {
   "cell_type": "markdown",
   "metadata": {},
   "source": [
    "How can I write good tests to make sure to not exclude valid job postings here? Are there really all empty? "
   ]
  },
  {
   "cell_type": "code",
   "execution_count": 7,
   "metadata": {},
   "outputs": [],
   "source": [
    "# Extract string list of meta attributes such as application deadline, job title, ...\n",
    "df['meta_atributes'] = df['cleaned_content'].apply(lambda l: ex.get_meta_attributes(l))\n",
    "\n",
    "# Extract job posting components following given template\n",
    "df['background'] = df['cleaned_content'].apply(lambda l: ex.get_background(l))\n",
    "df['duties_and_responsibilities'] = df['cleaned_content'].apply(lambda l: ex.get_duties_and_responsibilities(l))\n",
    "df['competencies'] = df['cleaned_content'].apply(lambda l: ex.get_competencies(l))\n",
    "df['required_skills_and_experience'] = df['cleaned_content'].apply(lambda l: ex.get_required_skills(l))"
   ]
  },
  {
   "cell_type": "code",
   "execution_count": 8,
   "metadata": {},
   "outputs": [],
   "source": [
    "\n",
    "# Example usage remains the same\n",
    "meta_attributes = ['location', 'type of contract', 'starting date',\n",
    "                   'application deadline', 'post level', 'duration of initial contract',\n",
    "                   'languages required', 'expected duration of assignment']\n",
    "\n",
    "# Apply to DataFrame\n",
    "df['title'] = df['meta_atributes'].apply(lambda l: ex.extract_title(l, meta_attributes[0]))\n",
    "\n",
    "for m_attr in meta_attributes:\n",
    "    df[m_attr.replace(' ', '_')] = df['meta_atributes'].apply(\n",
    "        lambda l: ex.extract_meta_attribute(m_attr, l, meta_attributes)\n",
    "    )"
   ]
  },
  {
   "cell_type": "code",
   "execution_count": 41,
   "metadata": {},
   "outputs": [
    {
     "name": "stdout",
     "output_type": "stream",
     "text": [
      "The string 'home' appears 10877 times in the 'location' column.\n"
     ]
    }
   ],
   "source": [
    "def count_substring(df, column, substring):\n",
    "    # Convert to lowercase for case-insensitive matching\n",
    "    return df[column].str.lower().str.contains(substring.lower()).sum()\n",
    "\n",
    "# Example usage\n",
    "search_string = \"home\"\n",
    "count = count_substring(df, 'location', search_string)\n",
    "\n",
    "print(f\"The string '{search_string}' appears {count} times in the 'location' column.\")"
   ]
  },
  {
   "cell_type": "code",
   "execution_count": 37,
   "metadata": {},
   "outputs": [
    {
     "data": {
      "text/html": [
       "<div>\n",
       "<style scoped>\n",
       "    .dataframe tbody tr th:only-of-type {\n",
       "        vertical-align: middle;\n",
       "    }\n",
       "\n",
       "    .dataframe tbody tr th {\n",
       "        vertical-align: top;\n",
       "    }\n",
       "\n",
       "    .dataframe thead th {\n",
       "        text-align: right;\n",
       "    }\n",
       "</style>\n",
       "<table border=\"1\" class=\"dataframe\">\n",
       "  <thead>\n",
       "    <tr style=\"text-align: right;\">\n",
       "      <th></th>\n",
       "      <th>Metric</th>\n",
       "      <th>Value</th>\n",
       "      <th>location</th>\n",
       "      <th>count</th>\n",
       "    </tr>\n",
       "  </thead>\n",
       "  <tbody>\n",
       "    <tr>\n",
       "      <th>0</th>\n",
       "      <td>Unique count</td>\n",
       "      <td>10997.0</td>\n",
       "      <td>NaN</td>\n",
       "      <td>NaN</td>\n",
       "    </tr>\n",
       "    <tr>\n",
       "      <th>1</th>\n",
       "      <td>NaN</td>\n",
       "      <td>NaN</td>\n",
       "      <td>new york united states of america</td>\n",
       "      <td>5834.0</td>\n",
       "    </tr>\n",
       "    <tr>\n",
       "      <th>2</th>\n",
       "      <td>NaN</td>\n",
       "      <td>NaN</td>\n",
       "      <td>kabul afghanistan</td>\n",
       "      <td>2568.0</td>\n",
       "    </tr>\n",
       "    <tr>\n",
       "      <th>3</th>\n",
       "      <td>NaN</td>\n",
       "      <td>NaN</td>\n",
       "      <td>jakarta indonesia</td>\n",
       "      <td>2143.0</td>\n",
       "    </tr>\n",
       "    <tr>\n",
       "      <th>4</th>\n",
       "      <td>NaN</td>\n",
       "      <td>NaN</td>\n",
       "      <td>dhaka bangladesh</td>\n",
       "      <td>2114.0</td>\n",
       "    </tr>\n",
       "    <tr>\n",
       "      <th>...</th>\n",
       "      <td>...</td>\n",
       "      <td>...</td>\n",
       "      <td>...</td>\n",
       "      <td>...</td>\n",
       "    </tr>\n",
       "    <tr>\n",
       "      <th>10993</th>\n",
       "      <td>NaN</td>\n",
       "      <td>NaN</td>\n",
       "      <td>shimlachambakullumandiunanalagarhparwanoo dist...</td>\n",
       "      <td>1.0</td>\n",
       "    </tr>\n",
       "    <tr>\n",
       "      <th>10994</th>\n",
       "      <td>NaN</td>\n",
       "      <td>NaN</td>\n",
       "      <td>homebased with travel to bangkok and asean reg...</td>\n",
       "      <td>1.0</td>\n",
       "    </tr>\n",
       "    <tr>\n",
       "      <th>10995</th>\n",
       "      <td>NaN</td>\n",
       "      <td>NaN</td>\n",
       "      <td>yerevan and project target regions armenia</td>\n",
       "      <td>1.0</td>\n",
       "    </tr>\n",
       "    <tr>\n",
       "      <th>10996</th>\n",
       "      <td>NaN</td>\n",
       "      <td>NaN</td>\n",
       "      <td>pereira risaralda armenia quindio o manizales ...</td>\n",
       "      <td>1.0</td>\n",
       "    </tr>\n",
       "    <tr>\n",
       "      <th>10997</th>\n",
       "      <td>NaN</td>\n",
       "      <td>NaN</td>\n",
       "      <td>havana city cuba</td>\n",
       "      <td>1.0</td>\n",
       "    </tr>\n",
       "  </tbody>\n",
       "</table>\n",
       "<p>10998 rows × 4 columns</p>\n",
       "</div>"
      ],
      "text/plain": [
       "             Metric    Value  \\\n",
       "0      Unique count  10997.0   \n",
       "1               NaN      NaN   \n",
       "2               NaN      NaN   \n",
       "3               NaN      NaN   \n",
       "4               NaN      NaN   \n",
       "...             ...      ...   \n",
       "10993           NaN      NaN   \n",
       "10994           NaN      NaN   \n",
       "10995           NaN      NaN   \n",
       "10996           NaN      NaN   \n",
       "10997           NaN      NaN   \n",
       "\n",
       "                                                location   count  \n",
       "0                                                    NaN     NaN  \n",
       "1                      new york united states of america  5834.0  \n",
       "2                                      kabul afghanistan  2568.0  \n",
       "3                                      jakarta indonesia  2143.0  \n",
       "4                                       dhaka bangladesh  2114.0  \n",
       "...                                                  ...     ...  \n",
       "10993  shimlachambakullumandiunanalagarhparwanoo dist...     1.0  \n",
       "10994  homebased with travel to bangkok and asean reg...     1.0  \n",
       "10995         yerevan and project target regions armenia     1.0  \n",
       "10996  pereira risaralda armenia quindio o manizales ...     1.0  \n",
       "10997                                   havana city cuba     1.0  \n",
       "\n",
       "[10998 rows x 4 columns]"
      ]
     },
     "execution_count": 37,
     "metadata": {},
     "output_type": "execute_result"
    }
   ],
   "source": [
    "result_df"
   ]
  },
  {
   "cell_type": "code",
   "execution_count": 10,
   "metadata": {},
   "outputs": [
    {
     "name": "stdout",
     "output_type": "stream",
     "text": [
      "Shape: (270, 3)\n"
     ]
    },
    {
     "data": {
      "text/html": [
       "<div>\n",
       "<style scoped>\n",
       "    .dataframe tbody tr th:only-of-type {\n",
       "        vertical-align: middle;\n",
       "    }\n",
       "\n",
       "    .dataframe tbody tr th {\n",
       "        vertical-align: top;\n",
       "    }\n",
       "\n",
       "    .dataframe thead th {\n",
       "        text-align: right;\n",
       "    }\n",
       "</style>\n",
       "<table border=\"1\" class=\"dataframe\">\n",
       "  <thead>\n",
       "    <tr style=\"text-align: right;\">\n",
       "      <th></th>\n",
       "      <th>country</th>\n",
       "      <th>country_iso</th>\n",
       "      <th>region</th>\n",
       "    </tr>\n",
       "  </thead>\n",
       "  <tbody>\n",
       "    <tr>\n",
       "      <th>0</th>\n",
       "      <td>afghanistan</td>\n",
       "      <td>AF</td>\n",
       "      <td>Southern Asia</td>\n",
       "    </tr>\n",
       "    <tr>\n",
       "      <th>1</th>\n",
       "      <td>åland islands</td>\n",
       "      <td>AX</td>\n",
       "      <td>Northern Europe</td>\n",
       "    </tr>\n",
       "    <tr>\n",
       "      <th>2</th>\n",
       "      <td>albania</td>\n",
       "      <td>AL</td>\n",
       "      <td>Southern Europe</td>\n",
       "    </tr>\n",
       "    <tr>\n",
       "      <th>3</th>\n",
       "      <td>algeria</td>\n",
       "      <td>DZ</td>\n",
       "      <td>Northern Africa</td>\n",
       "    </tr>\n",
       "    <tr>\n",
       "      <th>4</th>\n",
       "      <td>american samoa</td>\n",
       "      <td>AS</td>\n",
       "      <td>Australia and Oceania</td>\n",
       "    </tr>\n",
       "  </tbody>\n",
       "</table>\n",
       "</div>"
      ],
      "text/plain": [
       "          country country_iso                 region\n",
       "0     afghanistan          AF          Southern Asia\n",
       "1   åland islands          AX        Northern Europe\n",
       "2         albania          AL        Southern Europe\n",
       "3         algeria          DZ        Northern Africa\n",
       "4  american samoa          AS  Australia and Oceania"
      ]
     },
     "metadata": {},
     "output_type": "display_data"
    }
   ],
   "source": [
    "# dependency file with locations\n",
    "df_locations = pd.read_excel('../src/world-countries.xlsx')\n",
    "df_locations['country'] = df_locations['country'].str.lower()\n",
    "print(f'Shape: {df_locations.shape}')\n",
    "display(df_locations.head())\n",
    "\n",
    "country2iso = dict(df_locations[['country', 'country_iso']].values)\n",
    "country2region = dict(df_locations[['country_iso', 'region']].values)"
   ]
  },
  {
   "cell_type": "code",
   "execution_count": 11,
   "metadata": {},
   "outputs": [
    {
     "name": "stdout",
     "output_type": "stream",
     "text": [
      "Unique count before: 10997\n"
     ]
    },
    {
     "data": {
      "text/plain": [
       "location\n",
       "new york united states of america    5834\n",
       "kabul afghanistan                    2568\n",
       "jakarta indonesia                    2143\n",
       "dhaka bangladesh                     2114\n",
       "homebased                            1487\n",
       "kyiv ukraine                         1473\n",
       "home based                           1270\n",
       "kinshasa congo dem republic          1050\n",
       "phnom penh cambodia                  1038\n",
       "dakar senegal                        1033\n",
       "amman jordan                         1011\n",
       "bangkok thailand                     1010\n",
       "addis ababa ethiopia                  979\n",
       "bogota colombia                       871\n",
       "bamako mali                           846\n",
       "tashkent uzbekistan                   834\n",
       "beijing china                         820\n",
       "nairobi kenya                         816\n",
       "chisinau moldova                      810\n",
       "portauprince haiti                    778\n",
       "Name: count, dtype: int64"
      ]
     },
     "metadata": {},
     "output_type": "display_data"
    },
    {
     "name": "stdout",
     "output_type": "stream",
     "text": [
      "Unique count after : 178\n"
     ]
    },
    {
     "data": {
      "text/plain": [
       "country\n",
       "Home-based    10946\n",
       "US             6458\n",
       "AF             3678\n",
       "ID             3020\n",
       "BD             2976\n",
       "UA             2535\n",
       "ML             1795\n",
       "CO             1785\n",
       "CG             1718\n",
       "IN             1516\n",
       "BA             1410\n",
       "TR             1269\n",
       "NE             1256\n",
       "TH             1239\n",
       "KH             1226\n",
       "IQ             1163\n",
       "JO             1148\n",
       "SN             1125\n",
       "GN             1120\n",
       "ET             1107\n",
       "Name: count, dtype: int64"
      ]
     },
     "metadata": {},
     "output_type": "display_data"
    },
    {
     "data": {
      "text/plain": [
       "region\n",
       "Sub-Saharian Africa                18800\n",
       "Home-based                         10946\n",
       "Southern Asia                      10657\n",
       "South-Eastern Asia                  9156\n",
       "Latin America and the Carribean     8888\n",
       "Western Asia                        8351\n",
       "Northern America                    6459\n",
       "Southern Europe                     5049\n",
       "Eastern Europe                      4216\n",
       "Northern Africa                     2861\n",
       "Central Asia                        2267\n",
       "Eastern Asia                        1167\n",
       "Australia and Oceania               1123\n",
       "Western Europe                      1067\n",
       "Unspecified                          592\n",
       "Northern Europe                      452\n",
       "Name: count, dtype: int64"
      ]
     },
     "metadata": {},
     "output_type": "display_data"
    }
   ],
   "source": [
    "print('Unique count before:', df['location'].nunique())\n",
    "display(df['location'].value_counts(dropna = False).head(20))\n",
    "\n",
    "df.insert(4, 'country', df['location'].apply(lambda x: clean.clean_location(x, country2iso)))\n",
    "print('Unique count after :', df['country'].nunique())\n",
    "display(df['country'].value_counts(dropna = False).head(20))\n",
    "\n",
    "df.insert(5, 'region', df['country'].apply(lambda x: clean.get_region(x, country2region)))\n",
    "display(df['region'].value_counts(dropna = False))"
   ]
  },
  {
   "cell_type": "code",
   "execution_count": null,
   "metadata": {},
   "outputs": [],
   "source": []
  }
 ],
 "metadata": {
  "kernelspec": {
   "display_name": "undp-jobs",
   "language": "python",
   "name": "python3"
  },
  "language_info": {
   "codemirror_mode": {
    "name": "ipython",
    "version": 3
   },
   "file_extension": ".py",
   "mimetype": "text/x-python",
   "name": "python",
   "nbconvert_exporter": "python",
   "pygments_lexer": "ipython3",
   "version": "3.10.13"
  }
 },
 "nbformat": 4,
 "nbformat_minor": 2
}
