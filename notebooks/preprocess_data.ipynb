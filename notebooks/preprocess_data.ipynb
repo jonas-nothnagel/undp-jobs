{
 "cells": [
  {
   "cell_type": "code",
   "execution_count": 5,
   "id": "3ad1ba9d",
   "metadata": {},
   "outputs": [
    {
     "ename": "ModuleNotFoundError",
     "evalue": "No module named 'spacy'",
     "output_type": "error",
     "traceback": [
      "\u001b[0;31m---------------------------------------------------------------------------\u001b[0m",
      "\u001b[0;31mModuleNotFoundError\u001b[0m                       Traceback (most recent call last)",
      "Cell \u001b[0;32mIn[5], line 21\u001b[0m\n\u001b[1;32m     18\u001b[0m tqdm\u001b[38;5;241m.\u001b[39mpandas()\n\u001b[1;32m     20\u001b[0m \u001b[38;5;124;03m'''import helper functions'''\u001b[39;00m\n\u001b[0;32m---> 21\u001b[0m \u001b[38;5;28;01mimport\u001b[39;00m \u001b[38;5;21;01mclean\u001b[39;00m \u001b[38;5;28;01mas\u001b[39;00m \u001b[38;5;21;01mclean\u001b[39;00m\n\u001b[1;32m     22\u001b[0m \u001b[38;5;28;01mimport\u001b[39;00m \u001b[38;5;21;01mextract_attributes\u001b[39;00m \u001b[38;5;28;01mas\u001b[39;00m \u001b[38;5;21;01mex\u001b[39;00m\n\u001b[1;32m     24\u001b[0m \u001b[38;5;124;03m'''multiprocessing'''\u001b[39;00m\n",
      "File \u001b[0;32m~/Library/CloudStorage/GoogleDrive-jonas.nothnagel@gmail.com/My Drive/github_repos/undp-jobs/notebooks/../src/clean.py:9\u001b[0m\n\u001b[1;32m      7\u001b[0m \u001b[38;5;28;01mimport\u001b[39;00m \u001b[38;5;21;01mstring\u001b[39;00m  \n\u001b[1;32m      8\u001b[0m \u001b[38;5;28;01mimport\u001b[39;00m \u001b[38;5;21;01mnltk\u001b[39;00m \n\u001b[0;32m----> 9\u001b[0m \u001b[38;5;28;01mimport\u001b[39;00m \u001b[38;5;21;01mspacy\u001b[39;00m\n\u001b[1;32m     10\u001b[0m \u001b[38;5;28;01mimport\u001b[39;00m \u001b[38;5;21;01men_core_web_sm\u001b[39;00m\n\u001b[1;32m     11\u001b[0m \u001b[38;5;28;01mimport\u001b[39;00m \u001b[38;5;21;01mwordninja\u001b[39;00m\n",
      "\u001b[0;31mModuleNotFoundError\u001b[0m: No module named 'spacy'"
     ]
    }
   ],
   "source": [
    "import glob, os, sys; sys.path.append('../src')\n",
    "from datetime import datetime\n",
    "\n",
    "from langdetect import detect\n",
    "from tabulate import tabulate \n",
    "# data wrangling\n",
    "import numpy as np\n",
    "import pandas as pd\n",
    "import re\n",
    "import ast\n",
    "import itertools\n",
    "import wordninja\n",
    "from dateutil import parser\n",
    "import wordninja\n",
    "import string\n",
    "\n",
    "from tqdm.auto import tqdm\n",
    "tqdm.pandas()\n",
    "\n",
    "'''import helper functions'''\n",
    "import clean as clean\n",
    "import extract_attributes as ex\n",
    "\n",
    "'''multiprocessing'''\n",
    "from pandarallel import pandarallel\n",
    "pandarallel.initialize(progress_bar=True)"
   ]
  },
  {
   "cell_type": "code",
   "execution_count": null,
   "id": "53d150b9",
   "metadata": {},
   "outputs": [],
   "source": [
    "# locally\n",
    "data = pd.read_csv(\"../data/undp_jobs.csv\") "
   ]
  },
  {
   "cell_type": "code",
   "execution_count": null,
   "id": "c0841bc9",
   "metadata": {},
   "outputs": [],
   "source": [
    "# from Zenodo\n",
    "# df = pd.read_csv('https://zenodo.org/record/6589661/files/undp_jobs.csv?download=1')"
   ]
  },
  {
   "cell_type": "code",
   "execution_count": null,
   "id": "8c166d83",
   "metadata": {},
   "outputs": [],
   "source": [
    "df = data.T\n",
    "df.rename(columns={0: 'content'}, inplace=True)\n",
    "df.shape"
   ]
  },
  {
   "cell_type": "code",
   "execution_count": null,
   "id": "c91ce6e8",
   "metadata": {},
   "outputs": [],
   "source": [
    "df[\"content\"]=df[\"content\"].str.replace(\"{'content': \",\"\").str.replace(\"}\",\"\")"
   ]
  },
  {
   "cell_type": "code",
   "execution_count": null,
   "id": "51ee7e9c",
   "metadata": {},
   "outputs": [],
   "source": [
    "# delete empty rows\n",
    "df = df[df['content']!=\"[]\"]\n",
    "df.shape"
   ]
  },
  {
   "cell_type": "code",
   "execution_count": null,
   "id": "a584bccc",
   "metadata": {},
   "outputs": [],
   "source": [
    "#force column to type list\n",
    "df['content_list'] = df['content'].parallel_apply(lambda l: ast.literal_eval(l))"
   ]
  },
  {
   "cell_type": "code",
   "execution_count": null,
   "id": "6ef1916d",
   "metadata": {},
   "outputs": [],
   "source": [
    "# Remove special characters, line separation, URLs and enumerations\n",
    "df['content_list'] = df['content_list'].parallel_apply(lambda l: clean.clean_list(l))"
   ]
  },
  {
   "cell_type": "code",
   "execution_count": null,
   "id": "34e2788f",
   "metadata": {},
   "outputs": [],
   "source": [
    "# Binary column whether or not a posting follows the structure (background, competencies, sills and experiences, ...)\n",
    "template_structure = ['background',\\\n",
    "                      'duties and responsibilities',\\\n",
    "                      'competencies',\\\n",
    "                      'required skills and experience']\n",
    "for section in template_structure:\n",
    "    df['has_' + section.replace(' ','_')] = df['content_list'].parallel_apply(lambda l: ex.has_attribute(l, section))"
   ]
  },
  {
   "cell_type": "code",
   "execution_count": null,
   "id": "698f0c6d",
   "metadata": {},
   "outputs": [],
   "source": [
    "# Assess number of job postings not following the given structure\n",
    "df[(df['has_background']==0)|\\\n",
    "           (df['has_duties_and_responsibilities']==0)|\\\n",
    "           (df['has_competencies']==0)|\\\n",
    "           (df['has_required_skills_and_experience']==0)]['content'].shape"
   ]
  },
  {
   "cell_type": "code",
   "execution_count": null,
   "id": "7e62a191",
   "metadata": {},
   "outputs": [],
   "source": [
    "# Remove job postings not following the given structure and corresponding binary columns\n",
    "df = df[(df['has_background']!=0)&\\\n",
    "           (df['has_duties_and_responsibilities']!=0)&\\\n",
    "           (df['has_competencies']!=0)&\\\n",
    "           (df['has_required_skills_and_experience']!=0)]\n",
    "\n",
    "df.drop(['has_background',\\\n",
    "                  'has_duties_and_responsibilities',\\\n",
    "                  'has_competencies',\\\n",
    "                  'has_required_skills_and_experience'], axis=1, inplace=True)\n",
    "\n",
    "print('Rows following job posting template structure: ', df.shape[0])"
   ]
  },
  {
   "cell_type": "code",
   "execution_count": null,
   "id": "07f22a05",
   "metadata": {
    "scrolled": true
   },
   "outputs": [],
   "source": [
    "# Extract string list of meta attributes such as application deadline, job title, ...\n",
    "df['meta_atributes'] = df['content_list'].parallel_apply(lambda l: ex.get_meta_attributes(l))\n",
    "\n",
    "# Extract job posting components following given template\n",
    "df['background'] = df['content_list'].parallel_apply(lambda l: ex.get_background(l))\n",
    "df['duties_and_responsibilities'] = df['content_list'].parallel_apply(lambda l: ex.get_duties_and_responsibilities(l))\n",
    "df['competencies'] = df['content_list'].parallel_apply(lambda l: ex.get_competencies(l))\n",
    "df['required_skills_and_experience'] = df['content_list'].parallel_apply(lambda l: ex.get_required_skills(l))"
   ]
  },
  {
   "cell_type": "code",
   "execution_count": null,
   "id": "72a898f2",
   "metadata": {},
   "outputs": [],
   "source": [
    "meta_attributes = ['location', 'application deadline', 'time left', 'additional category',\\\n",
    "                  'type of contract','post level','languages required','starting date',\\\n",
    "                   'duration of initial contract','expected duration of assignment']\n",
    "\n",
    "# Extract meta attributes in seperate columns\n",
    "df['title'] = df['meta_atributes'].apply(lambda l: l[0])\n",
    "for m_attr in meta_attributes:\n",
    "    df[m_attr.replace(' ', '_')] = df['meta_atributes'].parallel_apply(lambda l: extract_meta_attribute(m_attr,l))"
   ]
  },
  {
   "cell_type": "code",
   "execution_count": null,
   "id": "b48dee60",
   "metadata": {},
   "outputs": [],
   "source": [
    "# Consolidate column names with names from UNDP previous work\n",
    "df.rename(columns={'duration_of_initial_contract':'duration_contract',\\\n",
    "                            'expected_duration_of_assignment':'duration_assignment',\\\n",
    "                            'required_skills_and_experience':'skills_experiences',\\\n",
    "                            'duties_and_responsibilities':'duties_responsibilities'}, inplace=True)"
   ]
  },
  {
   "cell_type": "code",
   "execution_count": null,
   "id": "ce24500c",
   "metadata": {},
   "outputs": [],
   "source": [
    "# parse dates\n",
    "df['application_deadline'] = df['application_deadline'].apply(lambda s: parser.parse(s[:9]))"
   ]
  },
  {
   "cell_type": "code",
   "execution_count": null,
   "id": "ba715255",
   "metadata": {},
   "outputs": [],
   "source": [
    "# extract year from date\n",
    "df['year'] = df['application_deadline'].apply(lambda l: str(l.year))"
   ]
  },
  {
   "cell_type": "code",
   "execution_count": null,
   "id": "329557d5",
   "metadata": {},
   "outputs": [],
   "source": [
    "columns = ['content','title','location','year','time_left','additional_category','type_of_contract','post_level','languages_required','starting_date','duration_contract','duration_assignment',\\\n",
    "           'background','duties_responsibilities','competencies','skills_experiences']\n",
    "\n",
    "df_jobs = df[columns]"
   ]
  },
  {
   "cell_type": "code",
   "execution_count": null,
   "id": "6f45eb06",
   "metadata": {},
   "outputs": [],
   "source": [
    "# dropping vacancies with missing data in key columns\n",
    "print(f'Shape before: {df_jobs.shape}')\n",
    "\n",
    "df_jobs.dropna(subset = ['title', 'location', 'year', 'background'], how = 'any', inplace = True)\n",
    "print(f'Shape after : {df_jobs.shape}')\n",
    "\n",
    "# dropping duplicated vacancies\n",
    "to_keep = ['title', 'location', 'year', 'background', 'duties_responsibilities']\n",
    "df_jobs.drop_duplicates(subset = to_keep, inplace = True)\n",
    "print(f'Shape after : {df_jobs.shape}')\n",
    "\n",
    "# generating unique vacancy ids\n",
    "df_jobs.insert(0, 'job_id', df_jobs[to_keep].fillna('').apply(lambda x: ' '.join(list(x)), axis = 1))\n",
    "df_jobs['job_id'] = df_jobs['job_id'].apply(lambda x: clean.generate_key(x, prefix = 'JOB'))\n",
    "assert df_jobs.duplicated(subset = ['job_id']).sum() == 0, 'Non-unique id'\n",
    "print(f'Shape after : {df_jobs.shape}')\n",
    "\n",
    "# percentage not missing\n",
    "display(df_jobs.notna().sum().divide(len(df_jobs) / 100).round(2).astype(str).add('%'))"
   ]
  },
  {
   "cell_type": "markdown",
   "id": "3f9be6d9",
   "metadata": {},
   "source": [
    "# Further Cleaning and Processing"
   ]
  },
  {
   "cell_type": "code",
   "execution_count": null,
   "id": "9139c07c",
   "metadata": {},
   "outputs": [],
   "source": [
    "# detect language \n",
    "df_jobs['language'] = [extract_language(x) for x in tqdm(df_jobs['background'])]"
   ]
  },
  {
   "cell_type": "markdown",
   "id": "d9743231",
   "metadata": {},
   "source": [
    "Now we should translate the non-english postings...."
   ]
  },
  {
   "cell_type": "code",
   "execution_count": null,
   "id": "df376864",
   "metadata": {
    "scrolled": true
   },
   "outputs": [],
   "source": [
    "# Detect and split joint words  (legacy from raw data extraction), the library used here is only defined for the English language\n",
    "for field in ['background', 'duties_responsibilities', 'competencies', 'skills_experiences']:\n",
    "    print('Prcessing field: ', field)\n",
    "    df_jobs[field] = [clean.split_joint_words(x) for x in tqdm(df_jobs[field])]"
   ]
  },
  {
   "cell_type": "markdown",
   "id": "33fbce41",
   "metadata": {},
   "source": [
    "# Locations"
   ]
  },
  {
   "cell_type": "code",
   "execution_count": null,
   "id": "1bcc67dc",
   "metadata": {},
   "outputs": [],
   "source": [
    "# dependency file with locations\n",
    "df_locations = pd.read_excel('../src/world-countries.xlsx', engine='openpyxl')\n",
    "df_locations['country'] = df_locations['country'].str.lower()\n",
    "print(f'Shape: {df_locations.shape}')\n",
    "display(df_locations.head())\n",
    "\n",
    "country2iso = dict(df_locations[['country', 'country_iso']].values)\n",
    "country2region = dict(df_locations[['country_iso', 'region']].values)"
   ]
  },
  {
   "cell_type": "code",
   "execution_count": null,
   "id": "f67a2fbc",
   "metadata": {},
   "outputs": [],
   "source": [
    "print('Unique count before:', df_jobs['location'].nunique())\n",
    "display(df_jobs['location'].value_counts(dropna = False).head(20))\n",
    "\n",
    "df_jobs.insert(4, 'country', df_jobs['location'].apply(lambda x: clean.clean_location(x, country2iso)))\n",
    "print('Unique count after :', df_jobs['country'].nunique())\n",
    "display(df_jobs['country'].value_counts(dropna = False).head(20))\n",
    "\n",
    "df_jobs.insert(5, 'region', df_jobs['country'].apply(lambda x: clean.get_region(x, country2region)))\n",
    "display(df_jobs['region'].value_counts(dropna = False))"
   ]
  },
  {
   "cell_type": "code",
   "execution_count": null,
   "id": "25ed9bbe",
   "metadata": {},
   "outputs": [],
   "source": [
    "df_jobs['year'].value_counts(dropna = False).sort_index()"
   ]
  },
  {
   "cell_type": "code",
   "execution_count": null,
   "id": "186ddb76",
   "metadata": {},
   "outputs": [],
   "source": [
    "df_jobs = df_jobs.drop('additional_category', 1)"
   ]
  },
  {
   "cell_type": "code",
   "execution_count": 3,
   "id": "f324769a",
   "metadata": {},
   "outputs": [
    {
     "name": "stdout",
     "output_type": "stream",
     "text": [
      "Unique count before: 19\n"
     ]
    },
    {
     "data": {
      "text/plain": [
       "individual contract                                                                         47401\n",
       "service contract                                                                            18961\n",
       "fta local                                                                                    7853\n",
       "fta international                                                                            6607\n",
       "internship                                                                                   5256\n",
       "other                                                                                        1934\n",
       "ald international                                                                            1447\n",
       "unv                                                                                          1285\n",
       "ta international                                                                             1174\n",
       "200 series                                                                                    895\n",
       "ta local                                                                                      807\n",
       "100 series                                                                                    773\n",
       "ipsa (regular)                                                                                421\n",
       "ald local                                                                                     173\n",
       "npsa (regular)                                                                                145\n",
       "npsa (short-term)                                                                              85\n",
       "ipsa (short-term)                                                                              69\n",
       "detail assignment                                                                               8\n",
       "review of the implementation of the istanbul programme of action (ipoa) type of contract        1\n",
       "Name: type_of_contract, dtype: int64"
      ]
     },
     "metadata": {},
     "output_type": "display_data"
    },
    {
     "name": "stdout",
     "output_type": "stream",
     "text": [
      "Unique count after : 18\n"
     ]
    },
    {
     "data": {
      "text/plain": [
       "Individual Contract    47401\n",
       "Service Contract       18961\n",
       "FTA Local               7853\n",
       "FTA International       6607\n",
       "Internship              5256\n",
       "Other                   1934\n",
       "ALD International       1447\n",
       "UNV                     1285\n",
       "TA International        1174\n",
       "200 Series               895\n",
       "TA local                 807\n",
       "100 Series               773\n",
       "IPSA                     421\n",
       "ALD Local                173\n",
       "NPSA                     145\n",
       "NPSA short-term           85\n",
       "IPSA short-term           69\n",
       "Unspecified                9\n",
       "Name: type_of_contract, dtype: int64"
      ]
     },
     "metadata": {},
     "output_type": "display_data"
    }
   ],
   "source": [
    "print('Unique count before:', df_jobs['type_of_contract'].nunique())\n",
    "display(df_jobs['type_of_contract'].value_counts(dropna = False).head(20))\n",
    "\n",
    "df_jobs['type_of_contract'] = df_jobs['type_of_contract'].apply(clean.clean_contracts)\n",
    "print('Unique count after :', df_jobs['type_of_contract'].nunique())\n",
    "display(df_jobs['type_of_contract'].value_counts(dropna = False))"
   ]
  },
  {
   "cell_type": "code",
   "execution_count": 4,
   "id": "7379bc5e",
   "metadata": {},
   "outputs": [
    {
     "data": {
      "application/vnd.jupyter.widget-view+json": {
       "model_id": "1b47fce446064541968b3a4d666c3b76",
       "version_major": 2,
       "version_minor": 0
      },
      "text/plain": [
       "VBox(children=(HBox(children=(IntProgress(value=0, description='0.00%', max=11912), Label(value='0 / 11912')))…"
      ]
     },
     "metadata": {},
     "output_type": "display_data"
    },
    {
     "name": "stdout",
     "output_type": "stream",
     "text": [
      "Unique count after : 30\n"
     ]
    },
    {
     "data": {
      "text/plain": [
       "International Consultant    23179\n",
       "National Consultant         20823\n",
       "SB/SC/GS-3                   5766\n",
       "SB/SC/GS-4                   5431\n",
       "Intern                       5275\n",
       "Other                        4917\n",
       "Unspecified                  3898\n",
       "SB/SC/GS-5                   3657\n",
       "SB/SC/GS-6                   2980\n",
       "P-4                          2778\n",
       "P-3                          2415\n",
       "SB/SC/GS-2                   1806\n",
       "NO-B                         1569\n",
       "P-5                          1565\n",
       "SB/SC/GS-7                   1484\n",
       "UNV                          1280\n",
       "NO-C                         1161\n",
       "SB/SC/GS-8                    902\n",
       "P-2                           831\n",
       "NO-A                          806\n",
       "SB/SC/GS-9                    712\n",
       "SB/SC/GS-1                    506\n",
       "IPSA                          490\n",
       "SB/SC/GS-10                   284\n",
       "NPSA                          230\n",
       "D-1                           207\n",
       "D-2                           146\n",
       "NO-D                          105\n",
       "SB/SC/GS-11                    81\n",
       "P-1                            11\n",
       "Name: post_level, dtype: int64"
      ]
     },
     "metadata": {},
     "output_type": "display_data"
    }
   ],
   "source": [
    "df_jobs['post_level'] = df_jobs['post_level'].parallel_apply(clean.clean_posts)\n",
    "print('Unique count after :', df_jobs['post_level'].nunique())\n",
    "display(df_jobs['post_level'].value_counts(dropna = False))"
   ]
  },
  {
   "cell_type": "code",
   "execution_count": 5,
   "id": "4fff7cec",
   "metadata": {},
   "outputs": [],
   "source": [
    "mapping = {'D-1': 'International Professional',\n",
    "           'D-2': 'International Professional',\n",
    "           'Intern': 'Intern',\n",
    "           'International Consultant': 'International Consultant',\n",
    "           'NO-A': 'National Professional',\n",
    "           'NO-B': 'National Professional',\n",
    "           'NO-C': 'National Professional',\n",
    "           'NO-D': 'National Professional',\n",
    "           'National Consultant': 'National Consultant',\n",
    "           'P-1': 'International Professional',\n",
    "           'P-2': 'International Professional',\n",
    "           'P-3': 'International Professional',\n",
    "           'P-4': 'International Professional',\n",
    "           'P-5': 'International Professional',\n",
    "           'SB/SC/GS-1': 'General Service',\n",
    "           'SB/SC/GS-2': 'General Service',\n",
    "           'SB/SC/GS-3': 'General Service',\n",
    "           'SB/SC/GS-4': 'General Service',\n",
    "           'SB/SC/GS-5': 'General Service',\n",
    "           'SB/SC/GS-6': 'General Service',\n",
    "           'SB/SC/GS-7': 'General Service',\n",
    "           'SB/SC/GS-8': 'General Service',\n",
    "           'SB/SC/GS-9': 'General Service',\n",
    "           'SB/SC/GS-10': 'General Service',\n",
    "           'SB/SC/GS-11': 'General Service',\n",
    "           'UNV': 'UNV',\n",
    "           'IPSA': 'IPSA',\n",
    "           'NPSA': 'NPSA',\n",
    "           'Other': 'Other',\n",
    "           'Unspecified': 'Unspecified'}"
   ]
  },
  {
   "cell_type": "code",
   "execution_count": 6,
   "id": "a2fd241a",
   "metadata": {},
   "outputs": [
    {
     "data": {
      "text/plain": [
       "General Service               23609\n",
       "International Consultant      23179\n",
       "National Consultant           20823\n",
       "International Professional     7953\n",
       "Intern                         5275\n",
       "Other                          4917\n",
       "Unspecified                    3898\n",
       "National Professional          3641\n",
       "UNV                            1280\n",
       "PSA                             720\n",
       "Name: staff_category, dtype: int64"
      ]
     },
     "metadata": {},
     "output_type": "display_data"
    }
   ],
   "source": [
    "df_jobs.insert(12, 'staff_category', df_jobs['post_level'].replace(mapping).tolist())\n",
    "display(df_jobs['staff_category'].value_counts(dropna = False))"
   ]
  },
  {
   "cell_type": "code",
   "execution_count": 8,
   "id": "590fe744",
   "metadata": {},
   "outputs": [
    {
     "data": {
      "text/plain": [
       "English        61217\n",
       "English,       22570\n",
       "French         10836\n",
       "Spanish         6932\n",
       "Arabic          6343\n",
       "Russian         4882\n",
       "Unspecified     4373\n",
       "French,         1369\n",
       "Chinese          712\n",
       "Spanish,          68\n",
       "Arabic,           30\n",
       "Russian,          25\n",
       "Name: languages_required, dtype: int64"
      ]
     },
     "execution_count": 8,
     "metadata": {},
     "output_type": "execute_result"
    }
   ],
   "source": [
    "df_jobs['languages_required'] = df_jobs['languages_required'].apply(clean.clean_languages)\n",
    "df_jobs['languages_required'].str.split(' ').explode().value_counts()"
   ]
  },
  {
   "cell_type": "code",
   "execution_count": 9,
   "id": "ea1aca30",
   "metadata": {},
   "outputs": [
    {
     "name": "stdout",
     "output_type": "stream",
     "text": [
      "Shape before: (95295, 20)\n",
      "Shape after : (95295, 15)\n"
     ]
    },
    {
     "data": {
      "text/html": [
       "<div>\n",
       "<style scoped>\n",
       "    .dataframe tbody tr th:only-of-type {\n",
       "        vertical-align: middle;\n",
       "    }\n",
       "\n",
       "    .dataframe tbody tr th {\n",
       "        vertical-align: top;\n",
       "    }\n",
       "\n",
       "    .dataframe thead th {\n",
       "        text-align: right;\n",
       "    }\n",
       "</style>\n",
       "<table border=\"1\" class=\"dataframe\">\n",
       "  <thead>\n",
       "    <tr style=\"text-align: right;\">\n",
       "      <th></th>\n",
       "      <th>job_id</th>\n",
       "      <th>content</th>\n",
       "      <th>title</th>\n",
       "      <th>country</th>\n",
       "      <th>region</th>\n",
       "      <th>year</th>\n",
       "      <th>type_of_contract</th>\n",
       "      <th>post_level</th>\n",
       "      <th>languages_required</th>\n",
       "      <th>staff_category</th>\n",
       "      <th>background</th>\n",
       "      <th>duties_responsibilities</th>\n",
       "      <th>competencies</th>\n",
       "      <th>skills_experiences</th>\n",
       "      <th>language</th>\n",
       "    </tr>\n",
       "  </thead>\n",
       "  <tbody>\n",
       "    <tr>\n",
       "      <th>0</th>\n",
       "      <td>JOB20338108876596148de9fba9a926ad06</td>\n",
       "      <td>['hiv and sti clinical consultant (ic)', 'loca...</td>\n",
       "      <td>hiv and sti clinical consultant (ic)</td>\n",
       "      <td>FJ</td>\n",
       "      <td>Australia and Oceania</td>\n",
       "      <td>2022</td>\n",
       "      <td>Individual Contract</td>\n",
       "      <td>International Consultant</td>\n",
       "      <td>English</td>\n",
       "      <td>International Consultant</td>\n",
       "      <td>the united nations development programme (undp...</td>\n",
       "      <td>project description and consultancy rationale ...</td>\n",
       "      <td>strong interpersonal and communication skills;...</td>\n",
       "      <td>educational qualifications : minimum master s ...</td>\n",
       "      <td>en</td>\n",
       "    </tr>\n",
       "    <tr>\n",
       "      <th>1</th>\n",
       "      <td>JOB579f6f45d13396afc130172715c7bba3</td>\n",
       "      <td>['internship- pacific digital economy programm...</td>\n",
       "      <td>internship- pacific digital economy programme ...</td>\n",
       "      <td>SB</td>\n",
       "      <td>Australia and Oceania</td>\n",
       "      <td>2022</td>\n",
       "      <td>Internship</td>\n",
       "      <td>Intern</td>\n",
       "      <td>English</td>\n",
       "      <td>Intern</td>\n",
       "      <td>the united nations capital development fund (u...</td>\n",
       "      <td>under the guidance and supervision of unc df s...</td>\n",
       "      <td>uncdf/undp core competencies : communication d...</td>\n",
       "      <td>education : candidate must be enrolled in a de...</td>\n",
       "      <td>en</td>\n",
       "    </tr>\n",
       "    <tr>\n",
       "      <th>2</th>\n",
       "      <td>JOB2b8aa5ccf8370e1acb7ba55cdc1e27d9</td>\n",
       "      <td>['consultant international spécialisé dans le ...</td>\n",
       "      <td>consultant international spécialisé dans le co...</td>\n",
       "      <td>DJ</td>\n",
       "      <td>Sub-Saharian Africa</td>\n",
       "      <td>2022</td>\n",
       "      <td>Individual Contract</td>\n",
       "      <td>International Consultant</td>\n",
       "      <td>French</td>\n",
       "      <td>International Consultant</td>\n",
       "      <td>a vis de r ecru te ment d un consultant in div...</td>\n",
       "      <td>2. description du pro jet le pro jet d ap pui ...</td>\n",
       "      <td>4. liv rables attenduslivrables/résultatsdurée...</td>\n",
       "      <td>7. qualifications et experiences requisesi. qu...</td>\n",
       "      <td>fr</td>\n",
       "    </tr>\n",
       "    <tr>\n",
       "      <th>3</th>\n",
       "      <td>JOB6c058f6289a3634356df9788d72fb6a8</td>\n",
       "      <td>['consultant national pour l’élaboration du pl...</td>\n",
       "      <td>consultant national pour l’élaboration du plan...</td>\n",
       "      <td>DJ</td>\n",
       "      <td>Sub-Saharian Africa</td>\n",
       "      <td>2022</td>\n",
       "      <td>Individual Contract</td>\n",
       "      <td>National Consultant</td>\n",
       "      <td>French</td>\n",
       "      <td>National Consultant</td>\n",
       "      <td>a vis de r ecru te ment d un consultant in div...</td>\n",
       "      <td>3. object if s l object if principal de la mis...</td>\n",
       "      <td>9. qualification le ou la consultant do it pos...</td>\n",
       "      <td>10. term es de pai e men tle consultant sera p...</td>\n",
       "      <td>fr</td>\n",
       "    </tr>\n",
       "    <tr>\n",
       "      <th>4</th>\n",
       "      <td>JOB72bdf033a137fb5a2dd18ad4b6941cdd</td>\n",
       "      <td>['individual consultant - national project off...</td>\n",
       "      <td>individual consultant - national project officer</td>\n",
       "      <td>SA</td>\n",
       "      <td>Western Asia</td>\n",
       "      <td>2022</td>\n",
       "      <td>Individual Contract</td>\n",
       "      <td>National Consultant</td>\n",
       "      <td>English, Arabic</td>\n",
       "      <td>National Consultant</td>\n",
       "      <td>post title : national project officer starting...</td>\n",
       "      <td>scope of work :       ensure effective and eff...</td>\n",
       "      <td>competencies : corporate competencies : demons...</td>\n",
       "      <td>required skills and experience :        educat...</td>\n",
       "      <td>en</td>\n",
       "    </tr>\n",
       "  </tbody>\n",
       "</table>\n",
       "</div>"
      ],
      "text/plain": [
       "                                job_id  \\\n",
       "0  JOB20338108876596148de9fba9a926ad06   \n",
       "1  JOB579f6f45d13396afc130172715c7bba3   \n",
       "2  JOB2b8aa5ccf8370e1acb7ba55cdc1e27d9   \n",
       "3  JOB6c058f6289a3634356df9788d72fb6a8   \n",
       "4  JOB72bdf033a137fb5a2dd18ad4b6941cdd   \n",
       "\n",
       "                                             content  \\\n",
       "0  ['hiv and sti clinical consultant (ic)', 'loca...   \n",
       "1  ['internship- pacific digital economy programm...   \n",
       "2  ['consultant international spécialisé dans le ...   \n",
       "3  ['consultant national pour l’élaboration du pl...   \n",
       "4  ['individual consultant - national project off...   \n",
       "\n",
       "                                               title country  \\\n",
       "0               hiv and sti clinical consultant (ic)      FJ   \n",
       "1  internship- pacific digital economy programme ...      SB   \n",
       "2  consultant international spécialisé dans le co...      DJ   \n",
       "3  consultant national pour l’élaboration du plan...      DJ   \n",
       "4   individual consultant - national project officer      SA   \n",
       "\n",
       "                  region  year     type_of_contract                post_level  \\\n",
       "0  Australia and Oceania  2022  Individual Contract  International Consultant   \n",
       "1  Australia and Oceania  2022           Internship                    Intern   \n",
       "2    Sub-Saharian Africa  2022  Individual Contract  International Consultant   \n",
       "3    Sub-Saharian Africa  2022  Individual Contract       National Consultant   \n",
       "4           Western Asia  2022  Individual Contract       National Consultant   \n",
       "\n",
       "  languages_required            staff_category  \\\n",
       "0            English  International Consultant   \n",
       "1            English                    Intern   \n",
       "2             French  International Consultant   \n",
       "3             French       National Consultant   \n",
       "4    English, Arabic       National Consultant   \n",
       "\n",
       "                                          background  \\\n",
       "0  the united nations development programme (undp...   \n",
       "1  the united nations capital development fund (u...   \n",
       "2  a vis de r ecru te ment d un consultant in div...   \n",
       "3  a vis de r ecru te ment d un consultant in div...   \n",
       "4  post title : national project officer starting...   \n",
       "\n",
       "                             duties_responsibilities  \\\n",
       "0  project description and consultancy rationale ...   \n",
       "1  under the guidance and supervision of unc df s...   \n",
       "2  2. description du pro jet le pro jet d ap pui ...   \n",
       "3  3. object if s l object if principal de la mis...   \n",
       "4  scope of work :       ensure effective and eff...   \n",
       "\n",
       "                                        competencies  \\\n",
       "0  strong interpersonal and communication skills;...   \n",
       "1  uncdf/undp core competencies : communication d...   \n",
       "2  4. liv rables attenduslivrables/résultatsdurée...   \n",
       "3  9. qualification le ou la consultant do it pos...   \n",
       "4  competencies : corporate competencies : demons...   \n",
       "\n",
       "                                  skills_experiences language  \n",
       "0  educational qualifications : minimum master s ...       en  \n",
       "1  education : candidate must be enrolled in a de...       en  \n",
       "2  7. qualifications et experiences requisesi. qu...       fr  \n",
       "3  10. term es de pai e men tle consultant sera p...       fr  \n",
       "4  required skills and experience :        educat...       en  "
      ]
     },
     "metadata": {},
     "output_type": "display_data"
    }
   ],
   "source": [
    "to_drop = ['location', 'time_left', 'starting_date', 'duration_contract', 'duration_assignment']\n",
    "\n",
    "print(f'Shape before: {df_jobs.shape}')\n",
    "df_jobs.drop(to_drop, axis = 1, inplace = True)\n",
    "df_jobs['year'] = df_jobs['year'].astype(int)\n",
    "\n",
    "print(f'Shape after : {df_jobs.shape}')\n",
    "display(df_jobs.head())"
   ]
  },
  {
   "cell_type": "code",
   "execution_count": 11,
   "id": "a1eba07d",
   "metadata": {},
   "outputs": [
    {
     "name": "stdout",
     "output_type": "stream",
     "text": [
      "saved!!!\n"
     ]
    }
   ],
   "source": [
    "df_jobs.to_parquet('../data/undp_jobs_processed.parquet')\n",
    "print('saved!!!')"
   ]
  }
 ],
 "metadata": {
  "kernelspec": {
   "display_name": "Python 3 (ipykernel)",
   "language": "python",
   "name": "python3"
  },
  "language_info": {
   "codemirror_mode": {
    "name": "ipython",
    "version": 3
   },
   "file_extension": ".py",
   "mimetype": "text/x-python",
   "name": "python",
   "nbconvert_exporter": "python",
   "pygments_lexer": "ipython3",
   "version": "3.10.13"
  }
 },
 "nbformat": 4,
 "nbformat_minor": 5
}
