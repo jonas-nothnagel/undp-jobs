{
 "cells": [
  {
   "cell_type": "code",
   "execution_count": 13,
   "id": "a739ed87",
   "metadata": {},
   "outputs": [
    {
     "name": "stdout",
     "output_type": "stream",
     "text": [
      "INFO: Pandarallel will run on 8 workers.\n",
      "INFO: Pandarallel will use standard multiprocessing data transfer (pipe) to transfer data between the main process and workers.\n"
     ]
    }
   ],
   "source": [
    "import pandas as pd\n",
    "import re\n",
    "from tqdm.auto import tqdm\n",
    "tqdm.pandas()\n",
    "\n",
    "'''set path'''\n",
    "import os\n",
    "import sys\n",
    "sys.path.insert(0, os.path.abspath(os.path.join('..', 'src')))\n",
    "\n",
    "'''import helper functions'''\n",
    "import clean as clean\n",
    "\n",
    "'''multiprocessing'''\n",
    "from pandarallel import pandarallel\n",
    "pandarallel.initialize(progress_bar=True)"
   ]
  },
  {
   "cell_type": "code",
   "execution_count": 14,
   "id": "064a7647",
   "metadata": {},
   "outputs": [],
   "source": [
    "# from Huggingface\n",
    "#from datasets import load_dataset\n",
    "#dataset = load_dataset(\"jonas/undp_jobs_raw\")"
   ]
  },
  {
   "cell_type": "code",
   "execution_count": 15,
   "id": "53d150b9",
   "metadata": {},
   "outputs": [],
   "source": [
    "# locally\n",
    "data = pd.read_csv(\"../data/undp_jobs.csv\") "
   ]
  },
  {
   "cell_type": "code",
   "execution_count": 16,
   "id": "79cc5495",
   "metadata": {},
   "outputs": [],
   "source": [
    "# from Zenodo\n",
    "# df = pd.read_csv('https://zenodo.org/record/6589661/files/undp_jobs.csv?download=1')"
   ]
  },
  {
   "cell_type": "code",
   "execution_count": 17,
   "id": "361ee717",
   "metadata": {},
   "outputs": [],
   "source": [
    "df = data.T\n",
    "df.rename(columns={0: 'text'}, inplace=True)"
   ]
  },
  {
   "cell_type": "code",
   "execution_count": 18,
   "id": "cf418fba",
   "metadata": {},
   "outputs": [],
   "source": [
    "'''not an elegant solution but fast hack to get started'''\n",
    "\n",
    "# extract metadata\n",
    "df['title'] = df.text.apply(lambda x: re.findall('\\[s*(.*?)\\s*location',x))\n",
    "df['location'] = df.text.apply(lambda x: re.findall('location\\s*(.*?)\\s*application deadline',x))\n",
    "df['year'] = df.text.apply(lambda x: re.findall('application deadline\\s*(.*?)\\s*(midnight new york)',x))\n",
    "df['type_of_contract'] = df.text.apply(lambda x: re.findall('type of contract\\s*(.*?)\\s*post level',x))\n",
    "df['post_level'] = df.text.apply(lambda x: re.findall('post level\\s*(.*?)\\s*languages required',x))\n",
    "df['languages_required'] = df.text.apply(lambda x: re.findall('languages required\\s*(.*?)\\s*starting date',x) or re.findall('languages required\\s*(.*?)\\s*duration of initial',x) or re.findall('languages required\\s*(.*?)\\s*expected duration',x) or re.findall('languages required\\s*(.*?)\\s*background',x))\n",
    "df['starting_date'] = df.text.apply(lambda x: re.findall('expected to start\\)\\s*(.*?)\\s*duration of initial',x))\n",
    "df['duration_contract'] = df.text.apply(lambda x: re.findall('initial contract\\s*(.*?)\\s*expected duration',x))\n",
    "df['duration_assignment'] = df.text.apply(lambda x: re.findall('duration of assignment\\s*(.*?)\\s*refer',x))\n",
    "df['background'] = df.text.apply(lambda x: re.findall('background\\s*(.*?)\\s*duties and responsibilities',x))\n",
    "df['duties_responsibilities'] = df.text.apply(lambda x: re.findall('duties and responsibilities\\s*(.*?)\\s*competencies',x))\n",
    "df['competencies'] = df.text.apply(lambda x: re.findall('competencies\\s*(.*?)\\s*required skills and experience',x))\n",
    "df['skills_experiences'] = df.text.apply(lambda x: re.findall('required skills and experience\\s*(.*?)\\s*refer a friend',x))\n",
    "\n",
    "#clean to string and remove square brackets \n",
    "df = df.astype(str)\n",
    "df.loc[df['year'].str.contains('-22'), 'year'] = '2022'\n",
    "df.loc[df['year'].str.contains('-21'), 'year'] = '2021'\n",
    "df.loc[df['year'].str.contains('-20'), 'year'] = '2020'\n",
    "df.loc[df['year'].str.contains('-19'), 'year'] = '2019'\n",
    "df.loc[df['year'].str.contains('-18'), 'year'] = '2018'\n",
    "df.loc[df['year'].str.contains('-17'), 'year'] = '2017'\n",
    "df.loc[df['year'].str.contains('-16'), 'year'] = '2016'\n",
    "df.loc[df['year'].str.contains('-15'), 'year'] = '2015'\n",
    "df.loc[df['year'].str.contains('-14'), 'year'] = '2014'\n",
    "df.loc[df['year'].str.contains('-13'), 'year'] = '2013'\n",
    "df.loc[df['year'].str.contains('-12'), 'year'] = '2012'\n",
    "df.loc[df['year'].str.contains('-11'), 'year'] = '2011'\n",
    "df.loc[df['year'].str.contains('-10'), 'year'] = '2010'\n",
    "df.loc[df['year'].str.contains('-09'), 'year'] = '2009'\n",
    "df.loc[df['year'].str.contains('-08'), 'year'] = '2008'\n",
    "df.loc[df['year'].str.contains('-07'), 'year'] = '2007'\n",
    "df.loc[df['year'].str.contains('-06'), 'year'] = '2006'\n",
    "df.loc[df['year'].str.contains('-05'), 'year'] = '2005'"
   ]
  },
  {
   "cell_type": "code",
   "execution_count": 19,
   "id": "95d1bb43",
   "metadata": {},
   "outputs": [
    {
     "name": "stdout",
     "output_type": "stream",
     "text": [
      "title\n"
     ]
    },
    {
     "data": {
      "application/vnd.jupyter.widget-view+json": {
       "model_id": "19a920c61ae943f1be18d56bb1a6a851",
       "version_major": 2,
       "version_minor": 0
      },
      "text/plain": [
       "VBox(children=(HBox(children=(IntProgress(value=0, description='0.00%', max=12954), Label(value='0 / 12954')))…"
      ]
     },
     "metadata": {},
     "output_type": "display_data"
    },
    {
     "name": "stdout",
     "output_type": "stream",
     "text": [
      "location\n"
     ]
    },
    {
     "data": {
      "application/vnd.jupyter.widget-view+json": {
       "model_id": "766f7cbfa7a94fad8e2f75a93c78a1f7",
       "version_major": 2,
       "version_minor": 0
      },
      "text/plain": [
       "VBox(children=(HBox(children=(IntProgress(value=0, description='0.00%', max=12954), Label(value='0 / 12954')))…"
      ]
     },
     "metadata": {},
     "output_type": "display_data"
    },
    {
     "name": "stdout",
     "output_type": "stream",
     "text": [
      "type_of_contract\n"
     ]
    },
    {
     "data": {
      "application/vnd.jupyter.widget-view+json": {
       "model_id": "d59e76044dff4d43b99d78f04e7b23e7",
       "version_major": 2,
       "version_minor": 0
      },
      "text/plain": [
       "VBox(children=(HBox(children=(IntProgress(value=0, description='0.00%', max=12954), Label(value='0 / 12954')))…"
      ]
     },
     "metadata": {},
     "output_type": "display_data"
    },
    {
     "name": "stdout",
     "output_type": "stream",
     "text": [
      "post_level\n"
     ]
    },
    {
     "data": {
      "application/vnd.jupyter.widget-view+json": {
       "model_id": "a81baf9df1744e8dbbe5226a951ec973",
       "version_major": 2,
       "version_minor": 0
      },
      "text/plain": [
       "VBox(children=(HBox(children=(IntProgress(value=0, description='0.00%', max=12954), Label(value='0 / 12954')))…"
      ]
     },
     "metadata": {},
     "output_type": "display_data"
    },
    {
     "name": "stdout",
     "output_type": "stream",
     "text": [
      "languages_required\n"
     ]
    },
    {
     "data": {
      "application/vnd.jupyter.widget-view+json": {
       "model_id": "a36cf639b4b74cfeb0a657c538961f00",
       "version_major": 2,
       "version_minor": 0
      },
      "text/plain": [
       "VBox(children=(HBox(children=(IntProgress(value=0, description='0.00%', max=12954), Label(value='0 / 12954')))…"
      ]
     },
     "metadata": {},
     "output_type": "display_data"
    },
    {
     "name": "stdout",
     "output_type": "stream",
     "text": [
      "background\n"
     ]
    },
    {
     "data": {
      "application/vnd.jupyter.widget-view+json": {
       "model_id": "5b54d833daad4a49ad663527fe7a9899",
       "version_major": 2,
       "version_minor": 0
      },
      "text/plain": [
       "VBox(children=(HBox(children=(IntProgress(value=0, description='0.00%', max=12954), Label(value='0 / 12954')))…"
      ]
     },
     "metadata": {},
     "output_type": "display_data"
    },
    {
     "name": "stdout",
     "output_type": "stream",
     "text": [
      "duties_responsibilities\n"
     ]
    },
    {
     "data": {
      "application/vnd.jupyter.widget-view+json": {
       "model_id": "1700a8a8685042c99d4ce36a9b41bdb7",
       "version_major": 2,
       "version_minor": 0
      },
      "text/plain": [
       "VBox(children=(HBox(children=(IntProgress(value=0, description='0.00%', max=12954), Label(value='0 / 12954')))…"
      ]
     },
     "metadata": {},
     "output_type": "display_data"
    },
    {
     "name": "stdout",
     "output_type": "stream",
     "text": [
      "competencies\n"
     ]
    },
    {
     "data": {
      "application/vnd.jupyter.widget-view+json": {
       "model_id": "d19f43239f654669a2d8977cdf9e9498",
       "version_major": 2,
       "version_minor": 0
      },
      "text/plain": [
       "VBox(children=(HBox(children=(IntProgress(value=0, description='0.00%', max=12954), Label(value='0 / 12954')))…"
      ]
     },
     "metadata": {},
     "output_type": "display_data"
    },
    {
     "name": "stdout",
     "output_type": "stream",
     "text": [
      "skills_experiences\n"
     ]
    },
    {
     "data": {
      "application/vnd.jupyter.widget-view+json": {
       "model_id": "39576d236d904e72ba1f7a5ce9ed2d93",
       "version_major": 2,
       "version_minor": 0
      },
      "text/plain": [
       "VBox(children=(HBox(children=(IntProgress(value=0, description='0.00%', max=12954), Label(value='0 / 12954')))…"
      ]
     },
     "metadata": {},
     "output_type": "display_data"
    }
   ],
   "source": [
    "'''process and clean text'''\n",
    "columns_to_clean = ['title', 'location', 'type_of_contract', 'post_level',\n",
    "       'languages_required', 'background', 'duties_responsibilities',\n",
    "       'competencies', 'skills_experiences']\n",
    "\n",
    "for column in columns_to_clean:\n",
    "    df[column] = df[column].astype(str)\n",
    "\n",
    "    '''spacy takes around 5h+ even with multiprocessing'''\n",
    "    #lemmatise and stemming + basic cleaning\n",
    "    # new_spacy = column + \"_clean_spacy\"\n",
    "    # print(new_spacy)\n",
    "    # df[new_spacy] = df[column].parallel_apply(clean.spacy_clean)\n",
    "    \n",
    "    #basic cleaning\n",
    "    # new = column + \"_clean\"\n",
    "    print(column)\n",
    "    df[column] = df[column].parallel_apply(clean.basic)\n",
    "    \n"
   ]
  },
  {
   "cell_type": "code",
   "execution_count": 20,
   "id": "a0565d86",
   "metadata": {},
   "outputs": [],
   "source": [
    "df.to_csv('../data/undp_jobs_processed.csv')  "
   ]
  },
  {
   "cell_type": "code",
   "execution_count": 23,
   "id": "c65d0e29",
   "metadata": {},
   "outputs": [
    {
     "data": {
      "text/html": [
       "<div>\n",
       "<style scoped>\n",
       "    .dataframe tbody tr th:only-of-type {\n",
       "        vertical-align: middle;\n",
       "    }\n",
       "\n",
       "    .dataframe tbody tr th {\n",
       "        vertical-align: top;\n",
       "    }\n",
       "\n",
       "    .dataframe thead th {\n",
       "        text-align: right;\n",
       "    }\n",
       "</style>\n",
       "<table border=\"1\" class=\"dataframe\">\n",
       "  <thead>\n",
       "    <tr style=\"text-align: right;\">\n",
       "      <th></th>\n",
       "      <th>text</th>\n",
       "      <th>title</th>\n",
       "      <th>location</th>\n",
       "      <th>year</th>\n",
       "      <th>type_of_contract</th>\n",
       "      <th>post_level</th>\n",
       "      <th>languages_required</th>\n",
       "      <th>starting_date</th>\n",
       "      <th>duration_contract</th>\n",
       "      <th>duration_assignment</th>\n",
       "      <th>background</th>\n",
       "      <th>duties_responsibilities</th>\n",
       "      <th>competencies</th>\n",
       "      <th>skills_experiences</th>\n",
       "    </tr>\n",
       "  </thead>\n",
       "  <tbody>\n",
       "    <tr>\n",
       "      <th>0</th>\n",
       "      <td>{'content': ['hiv and sti clinical consultant ...</td>\n",
       "      <td>hiv and sti clinical consultant ic</td>\n",
       "      <td>suva fiji</td>\n",
       "      <td>2022</td>\n",
       "      <td>individual contract</td>\n",
       "      <td>international consultant</td>\n",
       "      <td>english</td>\n",
       "      <td>[\"01-jul-2022', '\"]</td>\n",
       "      <td>[\":1/07/2022-31/12/2023', '\"]</td>\n",
       "      <td>[\":171 days', '\\\\n\\\\n\"]</td>\n",
       "      <td>the united nations development programme undp ...</td>\n",
       "      <td>project description and consultancy rationale ...</td>\n",
       "      <td>strong interpersonal and communication skillss...</td>\n",
       "      <td>educational qualificationsminimum master s deg...</td>\n",
       "    </tr>\n",
       "    <tr>\n",
       "      <th>1</th>\n",
       "      <td>{'content': ['internship- pacific digital econ...</td>\n",
       "      <td>internship pacific digital economy programme p...</td>\n",
       "      <td>honiara solomon islands</td>\n",
       "      <td>2022</td>\n",
       "      <td>internship</td>\n",
       "      <td>intern</td>\n",
       "      <td>english</td>\n",
       "      <td>[\"30-jun-2022', '\"]</td>\n",
       "      <td>[\":6 months', '\"]</td>\n",
       "      <td>[\":6 months', '\\\\n\\\\n\"]</td>\n",
       "      <td>the united nations capital development fund un...</td>\n",
       "      <td>under the guidance and supervision of uncdf s ...</td>\n",
       "      <td>uncdfundp core competenciescommunicationdelive...</td>\n",
       "      <td>educationcandidate must be enrolled in a degre...</td>\n",
       "    </tr>\n",
       "    <tr>\n",
       "      <th>2</th>\n",
       "      <td>{'content': ['consultant international spécial...</td>\n",
       "      <td>consultant international spécialisé dans le co...</td>\n",
       "      <td>djibouti djibouti</td>\n",
       "      <td>2022</td>\n",
       "      <td>individual contract</td>\n",
       "      <td>international consultant</td>\n",
       "      <td>french</td>\n",
       "      <td>[\"02-sep-2022', '\"]</td>\n",
       "      <td>[]</td>\n",
       "      <td>[]</td>\n",
       "      <td>avis de recrutement d un consultant individuel...</td>\n",
       "      <td>description du projet le projet d appui à la j...</td>\n",
       "      <td>livrables attenduslivrablesrésultatsdurée de r...</td>\n",
       "      <td>qualifications et experiences requisesi qualif...</td>\n",
       "    </tr>\n",
       "    <tr>\n",
       "      <th>3</th>\n",
       "      <td>{'content': ['consultant national pour l’élabo...</td>\n",
       "      <td>consultant national pour l élaboration du plan...</td>\n",
       "      <td>djibouti djibouti</td>\n",
       "      <td>2022</td>\n",
       "      <td>individual contract</td>\n",
       "      <td>national consultant</td>\n",
       "      <td>french</td>\n",
       "      <td>[\"14-jun-2022', '\"]</td>\n",
       "      <td>[\":3 mois', '\"]</td>\n",
       "      <td>[\":3 mois', '\\\\n\\\\n\"]</td>\n",
       "      <td>avis de recrutement d un consultant individuel...</td>\n",
       "      <td>objectifs l objectif principal de la mission e...</td>\n",
       "      <td>qualificationle ou la consultant e doit posséd...</td>\n",
       "      <td>termes de paiementle consultant sera payé à la...</td>\n",
       "    </tr>\n",
       "    <tr>\n",
       "      <th>4</th>\n",
       "      <td>{'content': ['individual consultant - national...</td>\n",
       "      <td>individual consultant national project officer</td>\n",
       "      <td>riyadh saudi arabia</td>\n",
       "      <td>2022</td>\n",
       "      <td>individual contract</td>\n",
       "      <td>national consultant</td>\n",
       "      <td>arabic english expected duration of assignment...</td>\n",
       "      <td>[]</td>\n",
       "      <td>[]</td>\n",
       "      <td>[\":12 months', '\\\\n\\\\n\"]</td>\n",
       "      <td>post titlenational project officerstarting dat...</td>\n",
       "      <td>scope of work ensure effective and efficient i...</td>\n",
       "      <td>competenciescorporate competenciesdemonstrates...</td>\n",
       "      <td>required skills and experience education maste...</td>\n",
       "    </tr>\n",
       "  </tbody>\n",
       "</table>\n",
       "</div>"
      ],
      "text/plain": [
       "                                                text  \\\n",
       "0  {'content': ['hiv and sti clinical consultant ...   \n",
       "1  {'content': ['internship- pacific digital econ...   \n",
       "2  {'content': ['consultant international spécial...   \n",
       "3  {'content': ['consultant national pour l’élabo...   \n",
       "4  {'content': ['individual consultant - national...   \n",
       "\n",
       "                                               title                 location  \\\n",
       "0                 hiv and sti clinical consultant ic                suva fiji   \n",
       "1  internship pacific digital economy programme p...  honiara solomon islands   \n",
       "2  consultant international spécialisé dans le co...        djibouti djibouti   \n",
       "3  consultant national pour l élaboration du plan...        djibouti djibouti   \n",
       "4     individual consultant national project officer      riyadh saudi arabia   \n",
       "\n",
       "   year     type_of_contract                post_level  \\\n",
       "0  2022  individual contract  international consultant   \n",
       "1  2022           internship                    intern   \n",
       "2  2022  individual contract  international consultant   \n",
       "3  2022  individual contract       national consultant   \n",
       "4  2022  individual contract       national consultant   \n",
       "\n",
       "                                  languages_required        starting_date  \\\n",
       "0                                            english  [\"01-jul-2022', '\"]   \n",
       "1                                            english  [\"30-jun-2022', '\"]   \n",
       "2                                             french  [\"02-sep-2022', '\"]   \n",
       "3                                             french  [\"14-jun-2022', '\"]   \n",
       "4  arabic english expected duration of assignment...                   []   \n",
       "\n",
       "               duration_contract       duration_assignment  \\\n",
       "0  [\":1/07/2022-31/12/2023', '\"]   [\":171 days', '\\\\n\\\\n\"]   \n",
       "1              [\":6 months', '\"]   [\":6 months', '\\\\n\\\\n\"]   \n",
       "2                             []                        []   \n",
       "3                [\":3 mois', '\"]     [\":3 mois', '\\\\n\\\\n\"]   \n",
       "4                             []  [\":12 months', '\\\\n\\\\n\"]   \n",
       "\n",
       "                                          background  \\\n",
       "0  the united nations development programme undp ...   \n",
       "1  the united nations capital development fund un...   \n",
       "2  avis de recrutement d un consultant individuel...   \n",
       "3  avis de recrutement d un consultant individuel...   \n",
       "4  post titlenational project officerstarting dat...   \n",
       "\n",
       "                             duties_responsibilities  \\\n",
       "0  project description and consultancy rationale ...   \n",
       "1  under the guidance and supervision of uncdf s ...   \n",
       "2  description du projet le projet d appui à la j...   \n",
       "3  objectifs l objectif principal de la mission e...   \n",
       "4  scope of work ensure effective and efficient i...   \n",
       "\n",
       "                                        competencies  \\\n",
       "0  strong interpersonal and communication skillss...   \n",
       "1  uncdfundp core competenciescommunicationdelive...   \n",
       "2  livrables attenduslivrablesrésultatsdurée de r...   \n",
       "3  qualificationle ou la consultant e doit posséd...   \n",
       "4  competenciescorporate competenciesdemonstrates...   \n",
       "\n",
       "                                  skills_experiences  \n",
       "0  educational qualificationsminimum master s deg...  \n",
       "1  educationcandidate must be enrolled in a degre...  \n",
       "2  qualifications et experiences requisesi qualif...  \n",
       "3  termes de paiementle consultant sera payé à la...  \n",
       "4  required skills and experience education maste...  "
      ]
     },
     "execution_count": 23,
     "metadata": {},
     "output_type": "execute_result"
    }
   ],
   "source": [
    "df.head(5)"
   ]
  },
  {
   "cell_type": "code",
   "execution_count": null,
   "id": "184d34ce",
   "metadata": {},
   "outputs": [],
   "source": []
  }
 ],
 "metadata": {
  "kernelspec": {
   "display_name": "Python 3 (ipykernel)",
   "language": "python",
   "name": "python3"
  },
  "language_info": {
   "codemirror_mode": {
    "name": "ipython",
    "version": 3
   },
   "file_extension": ".py",
   "mimetype": "text/x-python",
   "name": "python",
   "nbconvert_exporter": "python",
   "pygments_lexer": "ipython3",
   "version": "3.9.7"
  }
 },
 "nbformat": 4,
 "nbformat_minor": 5
}
